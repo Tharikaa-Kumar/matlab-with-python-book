{
 "cells": [
  {
   "attachments": {
    "image_0.png": {
     "image/png": "[encoded data removed]"
    }
   },
   "cell_type": "markdown",
   "metadata": {},
   "source": [
    "\n",
    "# Basic syntax of calling Python functions from MATLAB\n",
    "\n",
    "All Python functions in MATLAB have the same basic syntax:\n",
    "\n",
    "\n",
    "![image_0.png](attachment:image_0.png)\n",
    "\n",
    "\n",
    "The basic example that I give to kick things off is usually calling the square root function from the [math module](https://docs.python.org/3/library/math.html), that is part of the Python standard library. It makes little sense to call mathematics functions in Python from MATLAB, but it is easy to compare the result with what you would expect directly from MATLAB:\n",
    "\n",
    "\n",
    "In the MATLAB Command Window:\n",
    "\n",
    "\n",
    "`>> py.math.sqrt(42)`\n",
    "\n",
    "\n",
    "In a MATLAB Live Script:\n",
    ""
   ]
  },
  {
   "cell_type": "code",
   "execution_count": 1,
   "outputs": [],
   "metadata": {},
   "source": [
    "py.math.sqrt(42)"
   ]
  },
  {
   "cell_type": "markdown",
   "metadata": {},
   "source": [
    "\n",
    "We can create Python data structures from within MATLAB:\n",
    ""
   ]
  },
  {
   "cell_type": "code",
   "execution_count": 2,
   "outputs": [],
   "metadata": {},
   "source": [
    "py.list([1,2,3])"
   ]
  },
  {
   "cell_type": "code",
   "execution_count": 3,
   "outputs": [],
   "metadata": {},
   "source": [
    "py.list({1,2,'a','b'})"
   ]
  },
  {
   "cell_type": "code",
   "execution_count": 4,
   "outputs": [],
   "metadata": {},
   "source": [
    "s = struct('a', 1, 'b', 2)"
   ]
  },
  {
   "cell_type": "code",
   "execution_count": 5,
   "outputs": [],
   "metadata": {},
   "source": [
    "d = py.dict(s)"
   ]
  },
  {
   "cell_type": "markdown",
   "metadata": {},
   "source": [
    "\n",
    "And we can run methods on those data structures from the MATLAB side:\n",
    ""
   ]
  },
  {
   "cell_type": "code",
   "execution_count": 6,
   "outputs": [],
   "metadata": {},
   "source": [
    "methods(d)"
   ]
  },
  {
   "cell_type": "code",
   "execution_count": 7,
   "outputs": [],
   "metadata": {},
   "source": [
    "d.get('a')"
   ]
  },
  {
   "cell_type": "markdown",
   "metadata": {},
   "source": [
    ""
   ]
  }
 ],
 "metadata": {
  "kernelspec": {
   "display_name": "MATLAB (matlabkernel)",
   "language": "matlab",
   "name": "matlab"
  },
  "language_info": {
   "file_extension": ".m",
   "mimetype": "text/matlab",
   "name": "matlab",
   "nbconvert_exporter": "matlab",
   "pygments_lexer": "matlab",
   "version": "9.13.0.2080170"
  }
 },
 "nbformat": 4,
 "nbformat_minor": 4
}
