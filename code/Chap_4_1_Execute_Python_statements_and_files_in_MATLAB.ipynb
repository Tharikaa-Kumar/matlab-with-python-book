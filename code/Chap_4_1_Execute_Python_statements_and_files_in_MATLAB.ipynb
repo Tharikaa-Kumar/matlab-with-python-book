{
 "cells": [
  {
   "cell_type": "markdown",
   "metadata": {},
   "source": [
    "\n",
    "# 4.1. Execute Python statements and files in MATLAB\n",
    "\n",
    "Since R2021b, you can run Python statements directly from MATLAB with [<u>pyrun</u>](https://www.mathworks.com/help/matlab/ref/pyrun.html). This is convenient to simply run short snippets of Python code, without having to wrap it into a script.\n",
    ""
   ]
  },
  {
   "cell_type": "code",
   "execution_count": 1,
   "outputs": [],
   "metadata": {},
   "source": [
    "pyrun(\"l = [1,2,3]\")\n",
    "pyrun(\"print(l)\")"
   ]
  },
  {
   "cell_type": "markdown",
   "metadata": {},
   "source": [
    "\n",
    "As you can see, the pyrun function is stateful, in that it maintains the variable defined in previous calls. You can retrieve the Python variable on the MATLAB side by entering it as a second argument:\n",
    ""
   ]
  },
  {
   "cell_type": "code",
   "execution_count": 2,
   "outputs": [],
   "metadata": {},
   "source": [
    "pyrun(\"l2 = [k^2 for k in l]\",\"l2\")"
   ]
  },
  {
   "cell_type": "markdown",
   "metadata": {},
   "source": [
    "\n",
    "You can retrieve the list of variables defined in the local scope with the function [<u>dir</u>](https://docs.python.org/3/library/functions.html#dir)():\n",
    ""
   ]
  },
  {
   "cell_type": "code",
   "execution_count": 3,
   "outputs": [],
   "metadata": {},
   "source": [
    "D = pyrun(\"d = dir()\",\"d\")"
   ]
  },
  {
   "cell_type": "markdown",
   "metadata": {},
   "source": [
    "\n",
    "If it feels more convenient to paste your Python code snippet into a script, you can use [<u>pyrunfile</u>](https://www.mathworks.com/help/matlab/ref/pyrunfile.html).\n",
    "\n",
    ""
   ]
  }
 ],
 "metadata": {
  "kernelspec": {
   "display_name": "MATLAB (matlabkernel)",
   "language": "matlab",
   "name": "matlab"
  },
  "language_info": {
   "file_extension": ".m",
   "mimetype": "text/matlab",
   "name": "matlab",
   "nbconvert_exporter": "matlab",
   "pygments_lexer": "matlab",
   "version": "9.13.0.2080170"
  }
 },
 "nbformat": 4,
 "nbformat_minor": 4
}
